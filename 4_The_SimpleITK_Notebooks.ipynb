{
 "cells": [
  {
   "cell_type": "markdown",
   "metadata": {},
   "source": [
    "# SimpleITK Notebooks\n",
    "\n",
    "[The SimpleITK Notebooks](https://github.com/InsightSoftwareConsortium/SimpleITK-Notebooks) are a large collection of notebooks in both Python and R that the illustrate many of the basic image filtering, image segmentation and image registration algorithms available in the toolkit."
   ]
  },
  {
   "cell_type": "markdown",
   "metadata": {},
   "source": [
    "## Binder\n",
    "\n",
    "The Binder project allows you to run code someone has shared on a Binder server.\n",
    "\n",
    "MyBinder.org is a host (at Janelia Farms), running Binder, that will run any Jupyter notebook hosted on Github.org.\n",
    "\n",
    "So, what does that mean?\n",
    "\n",
    "We can **run the SimpleITK Notebooks on any web browser!!!**  No need to set up and install SimpleITK on your local computer."
   ]
  },
  {
   "cell_type": "markdown",
   "metadata": {},
   "source": [
    "## Let's do it!!!\n",
    "\n",
    "[SimpleITK-Notebooks on MyBinder.org](https://mybinder.org/v2/gh/InsightSoftwareConsortium/SimpleITK-Notebooks/master)\n",
    "\n",
    "(Try the Watersheds Segmentation and the Registration Introduction notebooks)"
   ]
  },
  {
   "cell_type": "code",
   "execution_count": null,
   "metadata": {},
   "outputs": [],
   "source": []
  }
 ],
 "metadata": {
  "kernelspec": {
   "display_name": "Python 3",
   "language": "python",
   "name": "python3"
  },
  "language_info": {
   "codemirror_mode": {
    "name": "ipython",
    "version": 3
   },
   "file_extension": ".py",
   "mimetype": "text/x-python",
   "name": "python",
   "nbconvert_exporter": "python",
   "pygments_lexer": "ipython3",
   "version": "3.7.3"
  }
 },
 "nbformat": 4,
 "nbformat_minor": 2
}
