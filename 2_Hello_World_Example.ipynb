{
 "cells": [
  {
   "cell_type": "markdown",
   "metadata": {},
   "source": [
    "# A SimpleITK Hello World Example\n",
    "\n",
    "This example constructs a 128x128 greyscale image, draws a smiley face made of Gaussian blobs, and calls the Show function to display with image with Fiji.  Each piece of the face is created as a seperate image and then combined into the result using arithmetic operators.\n",
    "\n",
    "It comes from the [SimpleITK ReadTheDocs page](https://simpleitk.readthedocs.io/en/master/Examples/HelloWorld/Documentation.html) where you can see the example written in all 8 languages SimpleITK supports.\n",
    "\n",
    "## Creating the image"
   ]
  },
  {
   "cell_type": "code",
   "execution_count": null,
   "metadata": {},
   "outputs": [],
   "source": [
    "import SimpleITK as sitk\n",
    "\n",
    "# Create an image\n",
    "pixelType = sitk.sitkUInt8\n",
    "imageSize = [128, 128]\n",
    "image     = sitk.Image( imageSize, pixelType )"
   ]
  },
  {
   "cell_type": "code",
   "execution_count": null,
   "metadata": {},
   "outputs": [],
   "source": [
    "# Create a face image\n",
    "faceSize   = [64, 64]\n",
    "faceCenter = [64, 64]\n",
    "face       = sitk.GaussianSource(pixelType, imageSize, faceSize, faceCenter)"
   ]
  },
  {
   "cell_type": "code",
   "execution_count": null,
   "metadata": {},
   "outputs": [],
   "source": [
    "# Create eye images\n",
    "eyeSize    = [5, 5]\n",
    "eye1Center = [48, 48]\n",
    "eye2Center = [80, 48]\n",
    "eye1       = sitk.GaussianSource(pixelType, imageSize, eyeSize, eye1Center, 150)\n",
    "eye2       = sitk.GaussianSource(pixelType, imageSize, eyeSize, eye2Center, 150)"
   ]
  },
  {
   "cell_type": "code",
   "execution_count": null,
   "metadata": {},
   "outputs": [],
   "source": [
    "# Apply the eyes to the face\n",
    "face = face - eye1 - eye2\n",
    "face = sitk.BinaryThreshold(face, 200, 255, 255)"
   ]
  },
  {
   "cell_type": "code",
   "execution_count": null,
   "metadata": {},
   "outputs": [],
   "source": [
    "# Create the mouth\n",
    "mouthRadii  = [30, 20]\n",
    "mouthCenter = [64, 76]\n",
    "mouth       = 255 - sitk.BinaryThreshold( sitk.GaussianSource(pixelType, imageSize, mouthRadii, mouthCenter),\n",
    "                                          200, 255, 255 )"
   ]
  },
  {
   "cell_type": "code",
   "execution_count": null,
   "metadata": {},
   "outputs": [],
   "source": [
    "# Paste the mouth into the face\n",
    "mouthSize = [64, 18]\n",
    "mouthLoc  = [32, 76]\n",
    "face      = sitk.Paste(face, mouth, mouthSize, mouthLoc, mouthLoc)"
   ]
  },
  {
   "cell_type": "code",
   "execution_count": null,
   "metadata": {},
   "outputs": [],
   "source": [
    "# Apply the face to the original image\n",
    "image = image+face"
   ]
  },
  {
   "cell_type": "code",
   "execution_count": null,
   "metadata": {},
   "outputs": [],
   "source": [
    "# Display the results in Fiji\n",
    "sitk.Show( image, title=\"Hello World: Python\", debugOn=True )"
   ]
  },
  {
   "cell_type": "code",
   "execution_count": null,
   "metadata": {},
   "outputs": [],
   "source": [
    "# Convert the image to a numpy_array to use matplotlib for display\n",
    "%matplotlib notebook\n",
    "import matplotlib.pyplot as plt\n",
    "\n",
    "numpy_array = sitk.GetArrayViewFromImage(image)\n",
    "figure = plt.figure(figsize=(3,3))\n",
    "plt.imshow(numpy_array, cmap=plt.cm.Greys_r)"
   ]
  },
  {
   "cell_type": "code",
   "execution_count": null,
   "metadata": {},
   "outputs": [],
   "source": []
  },
  {
   "cell_type": "code",
   "execution_count": null,
   "metadata": {},
   "outputs": [],
   "source": []
  }
 ],
 "metadata": {
  "kernelspec": {
   "display_name": "Python 3",
   "language": "python",
   "name": "python3"
  },
  "language_info": {
   "codemirror_mode": {
    "name": "ipython",
    "version": 3
   },
   "file_extension": ".py",
   "mimetype": "text/x-python",
   "name": "python",
   "nbconvert_exporter": "python",
   "pygments_lexer": "ipython3",
   "version": "3.7.3"
  }
 },
 "nbformat": 4,
 "nbformat_minor": 2
}
