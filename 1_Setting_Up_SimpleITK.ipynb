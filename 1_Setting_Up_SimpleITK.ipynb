{
 "cells": [
  {
   "cell_type": "markdown",
   "metadata": {},
   "source": [
    "# Setting up SimpleITK/Python\n",
    "\n",
    "## Installing Ananconda\n",
    "\n",
    "[Anaconda](https://anaconda.org) is a free and open-source distribution of Python for scientific computing that aims to simplify package management and deployment.  It contains more than 1400 popular data science packages.\n",
    "\n",
    "Here is the [Anaconda download page](https://www.anaconda.com/distribution/).\n",
    "\n",
    "## Installing SimpleITK\n",
    "\n",
    "[SimpleITK](https://simpleitk.readthedocs.io/en/master/) is a simplified, open source, interface to the Insight Segmentation and Registration Toolkit (ITK), a C++ open source image analysis toolkit which is widely used in academia and industry. SimpleITK is available for eight programming languages including C++, Python, R, Java, C#, Lua, Ruby, and TCL. \n",
    "\n",
    "Once you have Anaconda installed and set up, to install SimpleITK, simply enter:\n",
    "\n",
    "`conda install -c https://conda.anaconda.org/simpleitk SimpleITK`\n",
    "\n",
    "\n",
    "## Running these example notebooks\n",
    "\n",
    "If you would like to run these notebooks, you clone this Github repository:\n",
    "\n",
    "`git clone https://github.com/dave3d/GettingStartedWithSimpleITK.git`\n",
    "\n",
    "Then enter the following commands:\n",
    "\n",
    "```\n",
    "cd GettingStartedWithSimpleITK\n",
    "jupyter notebook\n",
    "```\n",
    "\n",
    "## Newcomers to Jupyter Notebooks:\n",
    "1. We use two types of cells, code and markdown.\n",
    "2. To run a code cell, select it (mouse or arrow key so that it is highlighted) and then press shift+enter which also moves focus to the next cell or ctrl+enter which doesn't.\n",
    "3. Closing the browser window does not close the Jupyter server. To close the server, go to the terminal where you ran it and press ctrl+c twice.\n",
    "\n",
    "For additional details see the [Jupyter Notebook Quick Start Guide](https://jupyter-notebook-beginner-guide.readthedocs.io/en/latest/index.html).\n",
    "\n",
    "And now, on to the [Hello World Example](2_Hello_World_Example.ipynb)."
   ]
  },
  {
   "cell_type": "code",
   "execution_count": null,
   "metadata": {},
   "outputs": [],
   "source": []
  }
 ],
 "metadata": {
  "kernelspec": {
   "display_name": "Python 3",
   "language": "python",
   "name": "python3"
  },
  "language_info": {
   "codemirror_mode": {
    "name": "ipython",
    "version": 3
   },
   "file_extension": ".py",
   "mimetype": "text/x-python",
   "name": "python",
   "nbconvert_exporter": "python",
   "pygments_lexer": "ipython3",
   "version": "3.7.3"
  }
 },
 "nbformat": 4,
 "nbformat_minor": 2
}
